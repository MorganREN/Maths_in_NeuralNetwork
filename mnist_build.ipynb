{
 "cells": [
  {
   "cell_type": "markdown",
   "id": "dde1e056-72dd-492e-9dde-a935981014a3",
   "metadata": {},
   "source": [
    "# 库导入"
   ]
  },
  {
   "cell_type": "code",
   "execution_count": 1,
   "id": "724e6ab0-3b66-4e10-a675-e2228a2836c3",
   "metadata": {},
   "outputs": [],
   "source": [
    "import tensorflow.keras as keras #keras整框架导入\n",
    "from tensorflow.keras.datasets import mnist #数据集\n",
    "import matplotlib.pyplot as plt #matplotlib包用于打印、输出图或图表\n",
    "from tensorflow.keras.layers import Dense, Dropout # 神经网络层导入\n",
    "from tensorflow.keras.models import Sequential # 网络神经模式（模型）分为Sequential序列模型和Model函数模型\n",
    "import numpy as np # 导入numpy包\n"
   ]
  },
  {
   "cell_type": "code",
   "execution_count": 2,
   "id": "67191413-9b95-4b25-a17c-2ecf18b22222",
   "metadata": {},
   "outputs": [],
   "source": [
    "# 加载官方mnist数据集\n",
    "(x_train, y_train), (x_test, y_test) = mnist.load_data()\n",
    "# x_train训练样本，y_train对应训练样本的标签 、、 x_test测试样本，y_test对应测试样本的标签"
   ]
  },
  {
   "cell_type": "markdown",
   "id": "78ea1733-d02f-465c-aaee-bc98b27a4215",
   "metadata": {},
   "source": [
    "# 数据预处理\n"
   ]
  },
  {
   "cell_type": "markdown",
   "id": "02da5638-69c5-457c-9c4c-5b74383b4d9f",
   "metadata": {},
   "source": [
    "### 归一化\n",
    "第一步数据的预先处理 之 归一化\n",
    "即\n",
    "将0-255之间的数据压缩到0-1之间"
   ]
  },
  {
   "cell_type": "code",
   "execution_count": 3,
   "id": "813ecfc0-dd5f-4ede-9127-813946359860",
   "metadata": {},
   "outputs": [],
   "source": [
    "x_train = x_train / 255.0   #特别注意是255.0不是255\n",
    "x_test = x_test / 255.0"
   ]
  },
  {
   "cell_type": "code",
   "execution_count": 4,
   "id": "3e0d7974-6420-44c9-aea3-7537201a5f1b",
   "metadata": {},
   "outputs": [
    {
     "name": "stdout",
     "output_type": "stream",
     "text": [
      "(60000, 28, 28)\n",
      "(10000, 28, 28)\n"
     ]
    }
   ],
   "source": [
    "print(x_train.shape)\n",
    "print(x_test.shape)"
   ]
  },
  {
   "cell_type": "markdown",
   "id": "2b7ea471-c864-40cc-a961-a18a2e0da92d",
   "metadata": {},
   "source": [
    "### 根据网络要求改变数组输入的shape\n",
    "因为我们使用的全连接层，全连接层就是一排解一排，那么数据结构不能是28*28矩阵，\n",
    "需要做一个reshape，把28*28 做成一排\n",
    "即 28*28 = 784"
   ]
  },
  {
   "cell_type": "code",
   "execution_count": 1,
   "id": "270a815e-da81-4c8b-ad57-2ed2bd9a79fa",
   "metadata": {},
   "outputs": [
    {
     "ename": "NameError",
     "evalue": "name 'x_train' is not defined",
     "output_type": "error",
     "traceback": [
      "\u001b[1;31m---------------------------------------------------------------------------\u001b[0m",
      "\u001b[1;31mNameError\u001b[0m                                 Traceback (most recent call last)",
      "\u001b[1;32m<ipython-input-1-70f2a8382b8f>\u001b[0m in \u001b[0;36m<module>\u001b[1;34m\u001b[0m\n\u001b[1;32m----> 1\u001b[1;33m \u001b[0mx_train\u001b[0m \u001b[1;33m=\u001b[0m \u001b[0mx_train\u001b[0m\u001b[1;33m.\u001b[0m\u001b[0mreshape\u001b[0m\u001b[1;33m(\u001b[0m\u001b[1;36m60000\u001b[0m\u001b[1;33m,\u001b[0m \u001b[1;36m784\u001b[0m\u001b[1;33m)\u001b[0m\u001b[1;33m.\u001b[0m\u001b[0mastype\u001b[0m\u001b[1;33m(\u001b[0m\u001b[1;34m'float32'\u001b[0m\u001b[1;33m)\u001b[0m \u001b[1;31m# astype('float32') 是告诉系统用的是float32位的\u001b[0m\u001b[1;33m\u001b[0m\u001b[1;33m\u001b[0m\u001b[0m\n\u001b[0m\u001b[0;32m      2\u001b[0m \u001b[0mx_test\u001b[0m \u001b[1;33m=\u001b[0m \u001b[0mx_test\u001b[0m\u001b[1;33m.\u001b[0m\u001b[0mreshape\u001b[0m\u001b[1;33m(\u001b[0m\u001b[1;36m10000\u001b[0m\u001b[1;33m,\u001b[0m \u001b[1;36m784\u001b[0m\u001b[1;33m)\u001b[0m\u001b[1;33m.\u001b[0m\u001b[0mastype\u001b[0m\u001b[1;33m(\u001b[0m\u001b[1;34m'float32'\u001b[0m\u001b[1;33m)\u001b[0m\u001b[1;33m\u001b[0m\u001b[1;33m\u001b[0m\u001b[0m\n\u001b[0;32m      3\u001b[0m \u001b[0mprint\u001b[0m\u001b[1;33m(\u001b[0m\u001b[0mx_train\u001b[0m\u001b[1;33m.\u001b[0m\u001b[0mshape\u001b[0m\u001b[1;33m)\u001b[0m\u001b[1;33m\u001b[0m\u001b[1;33m\u001b[0m\u001b[0m\n",
      "\u001b[1;31mNameError\u001b[0m: name 'x_train' is not defined"
     ]
    }
   ],
   "source": [
    "x_train = x_train.reshape(60000, 784).astype('float32') # astype('float32') 是告诉系统用的是float32位的\n",
    "x_test = x_test.reshape(10000, 784).astype('float32')\n",
    "print(x_train.shape)"
   ]
  },
  {
   "cell_type": "markdown",
   "id": "726d2fbb-fc90-451d-bc84-1894dcfb4072",
   "metadata": {},
   "source": [
    "### 标签转 one hot 操作\n",
    "one hot处理，将所有数据从1 2 3 4...标注改编为：                                                         \n",
    "如 1 表达为 [0, 1, 0, 0, 0, 0, 0, 0, 0, 0]\n",
    "               如 5 表达为[0, 0, 0, 0, 0, 1, 0, 0, 0, 0]"
   ]
  },
  {
   "cell_type": "code",
   "execution_count": 6,
   "id": "39779c7f-82b8-4ae2-ae88-22a6f1da2ff1",
   "metadata": {},
   "outputs": [],
   "source": [
    "y_train = keras.utils.to_categorical(y_train, num_classes=10)\n",
    "y_test = keras.utils.to_categorical(y_test, num_classes=10)"
   ]
  },
  {
   "cell_type": "markdown",
   "id": "5bc286ca-c95a-4a63-a17a-6464245bc9ed",
   "metadata": {},
   "source": [
    "# 模型结构搭建"
   ]
  },
  {
   "cell_type": "code",
   "execution_count": 7,
   "id": "04cdbae3-bb3b-481e-89b5-8a58a2591f39",
   "metadata": {},
   "outputs": [],
   "source": [
    "# 搭建网络结构\n",
    "model = Sequential() # 实例化\n",
    "\n",
    "# 向模型中添加层Dense层为全连接层\n",
    "model.add(Dense(units=128, input_shape=(784, ), activation='relu'))\n",
    "model.add(Dense(units=128, activation='relu')) # relu为一个算法的名称\n",
    "model.add(Dropout(0.25)) # dropout是一个层，防止网络过度学习，比如学了100个东西就保留一部分\n",
    "model.add(Dense(units=10, activation='softmax')) # 该层为输出层、分类层，unit必须为10\n"
   ]
  },
  {
   "cell_type": "markdown",
   "id": "77900ab2-f894-4f58-b000-b0be803eb828",
   "metadata": {},
   "source": [
    "# 训练\n",
    "### 模型编译即训练设置"
   ]
  },
  {
   "cell_type": "code",
   "execution_count": 8,
   "id": "e4dec7cc-fb67-4573-aecc-9ea8741a280f",
   "metadata": {},
   "outputs": [],
   "source": [
    "# 模型编译-设置模型的损失loss、优化器optimizier\n",
    "model.compile(loss='categorical_crossentropy', optimizer='adam', metrics=['accuracy'])"
   ]
  },
  {
   "cell_type": "markdown",
   "id": "717d6adb-5a22-494e-9c70-e27db88a5f4b",
   "metadata": {},
   "source": [
    "### 启动训练"
   ]
  },
  {
   "cell_type": "code",
   "execution_count": 9,
   "id": "04275efd-88fe-4d4c-8a37-fc09241d1676",
   "metadata": {},
   "outputs": [
    {
     "name": "stdout",
     "output_type": "stream",
     "text": [
      "Epoch 1/10\n",
      "938/938 [==============================] - 2s 2ms/step - loss: 0.2995 - accuracy: 0.9101\n",
      "Epoch 2/10\n",
      "938/938 [==============================] - 3s 3ms/step - loss: 0.1212 - accuracy: 0.9637\n",
      "Epoch 3/10\n",
      "938/938 [==============================] - 2s 3ms/step - loss: 0.0849 - accuracy: 0.9742\n",
      "Epoch 4/10\n",
      "938/938 [==============================] - 3s 3ms/step - loss: 0.0650 - accuracy: 0.9802\n",
      "Epoch 5/10\n",
      "938/938 [==============================] - 3s 3ms/step - loss: 0.0525 - accuracy: 0.9839\n",
      "Epoch 6/10\n",
      "938/938 [==============================] - 2s 3ms/step - loss: 0.0440 - accuracy: 0.9859\n",
      "Epoch 7/10\n",
      "938/938 [==============================] - 2s 3ms/step - loss: 0.0364 - accuracy: 0.9886\n",
      "Epoch 8/10\n",
      "938/938 [==============================] - 3s 3ms/step - loss: 0.0329 - accuracy: 0.9893\n",
      "Epoch 9/10\n",
      "938/938 [==============================] - 3s 3ms/step - loss: 0.0285 - accuracy: 0.9909\n",
      "Epoch 10/10\n",
      "938/938 [==============================] - 3s 3ms/step - loss: 0.0237 - accuracy: 0.9924\n"
     ]
    },
    {
     "data": {
      "text/plain": [
       "<tensorflow.python.keras.callbacks.History at 0x18036363730>"
      ]
     },
     "execution_count": 9,
     "metadata": {},
     "output_type": "execute_result"
    }
   ],
   "source": [
    "# 启动训练，同时加入训练的样本、标签、训练数量和批次数量\n",
    "model.fit(\n",
    "    x = x_train,\n",
    "    y = y_train,\n",
    "    batch_size = 64,  #batch_size至少为32次，但太多会超过内存容量\n",
    "    epochs=10,\n",
    ")"
   ]
  },
  {
   "cell_type": "markdown",
   "id": "da93e0e5-9281-4955-b923-4c9e0304f21e",
   "metadata": {},
   "source": [
    "# 测试"
   ]
  },
  {
   "cell_type": "code",
   "execution_count": 10,
   "id": "fac210f3-37a7-4bb1-a1b6-0607d68c27f0",
   "metadata": {},
   "outputs": [
    {
     "name": "stdout",
     "output_type": "stream",
     "text": [
      "313/313 [==============================] - 1s 1ms/step - loss: 0.0708 - accuracy: 0.9823\n",
      "0.07083231210708618 0.9822999835014343\n"
     ]
    }
   ],
   "source": [
    "# 使用模型的evaluate方法即评估模型，并载入test数据集，对模型进行测试\n",
    "loss, acc = model.evaluate(x_test, y_test)\n",
    "print(loss, acc)"
   ]
  },
  {
   "cell_type": "markdown",
   "id": "342304f8-37a9-4ecb-b795-55e9d2cce2ed",
   "metadata": {},
   "source": [
    "# 模型保存"
   ]
  },
  {
   "cell_type": "code",
   "execution_count": 11,
   "id": "caa57b4f-793e-442a-bbf8-7b7e7dd574cc",
   "metadata": {},
   "outputs": [],
   "source": [
    "# 保存模型和权重\n",
    "model.save('mnistTrain.h5')\n",
    "\n",
    "# 保存后，我们后期可以再使用这次的训练结果用于推理、预测"
   ]
  },
  {
   "cell_type": "code",
   "execution_count": null,
   "id": "ba479edd-2797-4da0-9777-85c2466dee79",
   "metadata": {},
   "outputs": [],
   "source": []
  }
 ],
 "metadata": {
  "kernelspec": {
   "display_name": "Python 3",
   "language": "python",
   "name": "python3"
  },
  "language_info": {
   "codemirror_mode": {
    "name": "ipython",
    "version": 3
   },
   "file_extension": ".py",
   "mimetype": "text/x-python",
   "name": "python",
   "nbconvert_exporter": "python",
   "pygments_lexer": "ipython3",
   "version": "3.8.8"
  }
 },
 "nbformat": 4,
 "nbformat_minor": 5
}
