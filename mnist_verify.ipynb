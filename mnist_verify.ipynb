{
 "cells": [
  {
   "cell_type": "markdown",
   "id": "f38c7bec-182d-4161-90e6-82a96af0f829",
   "metadata": {},
   "source": [
    "该文件接文件3_5, 为上一文件模型结果的预测"
   ]
  },
  {
   "cell_type": "markdown",
   "id": "eb57cbf5-eadb-46fb-841b-d3b7bcaa5fd8",
   "metadata": {},
   "source": [
    "# 应用模型预测\n",
    "### 导入包"
   ]
  },
  {
   "cell_type": "code",
   "execution_count": 1,
   "id": "5719ed22-630a-4ade-9969-a71bbfe47832",
   "metadata": {},
   "outputs": [],
   "source": [
    "import tensorflow.keras as keras #keras整框架导入\n",
    "from tensorflow.keras.datasets import mnist #数据集\n",
    "import matplotlib.pyplot as plt #matplotlib包用于打印、输出图或图表\n",
    "from tensorflow.keras.layers import Dense, Dropout # 神经网络层导入\n",
    "from tensorflow.keras.models import Sequential # 网络神经模式（模型）分为Sequential序列模型和Model函数模型\n",
    "import numpy as np # 导入numpy包\n",
    "from tensorflow.keras.models import load_model\n",
    "from PIL import Image\n"
   ]
  },
  {
   "cell_type": "markdown",
   "id": "e935efaa-f48c-42d0-9d19-442dc68ed8b6",
   "metadata": {},
   "source": [
    "### 加载自己的样本、预处理"
   ]
  },
  {
   "cell_type": "code",
   "execution_count": 19,
   "id": "2290aafb-90da-4a9e-93de-5ef907b24c9d",
   "metadata": {},
   "outputs": [
    {
     "name": "stdout",
     "output_type": "stream",
     "text": [
      "(28, 28)\n",
      "(1, 784)\n"
     ]
    }
   ],
   "source": [
    "# 读取样本\n",
    "img_open = Image.open('5_new.jpg')\n",
    "\n",
    "print(np.array(img_open).shape)\n",
    "\n",
    "# 样本转shape和归一化一气呵成\n",
    "img_to_array = np.array(img_open).reshape(1, 784, )/255.0\n",
    "# 我们训练的时候输入shape（60000,784, )， 那么预测进入网络的结构也必须\n",
    "#要满足同样的维度标准，所以需要是（1，784），不能是（784，）\n",
    "\n",
    "# 看一下shape\n",
    "print(img_to_array.shape)"
   ]
  },
  {
   "cell_type": "markdown",
   "id": "21ccf9fa-3321-44b6-9484-7fe3c086abdc",
   "metadata": {},
   "source": [
    "### 加载模型&预测"
   ]
  },
  {
   "cell_type": "code",
   "execution_count": 20,
   "id": "359dd60d-989a-4ad2-bd60-094b5be6eddf",
   "metadata": {},
   "outputs": [
    {
     "name": "stdout",
     "output_type": "stream",
     "text": [
      "WARNING:tensorflow:6 out of the last 6 calls to <function Model.make_predict_function.<locals>.predict_function at 0x000001D57138FF70> triggered tf.function retracing. Tracing is expensive and the excessive number of tracings could be due to (1) creating @tf.function repeatedly in a loop, (2) passing tensors with different shapes, (3) passing Python objects instead of tensors. For (1), please define your @tf.function outside of the loop. For (2), @tf.function has experimental_relax_shapes=True option that relaxes argument shapes that can avoid unnecessary retracing. For (3), please refer to https://www.tensorflow.org/guide/function#controlling_retracing and https://www.tensorflow.org/api_docs/python/tf/function for  more details.\n"
     ]
    },
    {
     "data": {
      "text/plain": [
       "array([[1.8630658e-13, 1.8224023e-07, 1.7630467e-10, 3.7357572e-04,\n",
       "        1.7517932e-11, 9.9962568e-01, 4.5553453e-08, 4.3902385e-10,\n",
       "        2.0592095e-07, 2.3690284e-07]], dtype=float32)"
      ]
     },
     "execution_count": 20,
     "metadata": {},
     "output_type": "execute_result"
    }
   ],
   "source": [
    "# 创建一个加载模型实例\n",
    "model = load_model('mnistTrain.h5')\n",
    "prediction = model.predict(img_to_array)\n",
    "prediction\n",
    "# prediction返回的结果其实是对应了我们的 one hot"
   ]
  },
  {
   "cell_type": "code",
   "execution_count": 21,
   "id": "99a0f5f5-a8cc-4996-91d3-4a10316d3a7b",
   "metadata": {},
   "outputs": [
    {
     "data": {
      "text/plain": [
       "[5]"
      ]
     },
     "execution_count": 21,
     "metadata": {},
     "output_type": "execute_result"
    }
   ],
   "source": [
    "# 把最大值推出来\n",
    "Final_Pred = [result.argmax() for result in prediction]\n",
    "Final_Pred"
   ]
  },
  {
   "cell_type": "markdown",
   "id": "ebdc0d48-c05d-4052-af6d-b16204937d89",
   "metadata": {},
   "source": [
    "由上一步可知，该图片最有可能的数字是9"
   ]
  }
 ],
 "metadata": {
  "kernelspec": {
   "display_name": "Python 3",
   "language": "python",
   "name": "python3"
  },
  "language_info": {
   "codemirror_mode": {
    "name": "ipython",
    "version": 3
   },
   "file_extension": ".py",
   "mimetype": "text/x-python",
   "name": "python",
   "nbconvert_exporter": "python",
   "pygments_lexer": "ipython3",
   "version": "3.8.8"
  }
 },
 "nbformat": 4,
 "nbformat_minor": 5
}
